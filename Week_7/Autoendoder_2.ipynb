{
 "cells": [
  {
   "cell_type": "markdown",
   "metadata": {
    "id": "VB9pbERmm8IZ"
   },
   "source": [
    "\n",
    "# Simple AutoEncoders with Image Data\n",
    "\n",
    "Here is a simple autoencoder with just the dense layers."
   ]
  },
  {
   "cell_type": "markdown",
   "metadata": {
    "id": "LlxN-eb5m8Ia"
   },
   "source": [
    "Load the data and import the libraries."
   ]
  },
  {
   "cell_type": "code",
   "execution_count": 1,
   "metadata": {
    "id": "MGqNWU6Ym8Ia",
    "tags": []
   },
   "outputs": [
    {
     "name": "stdout",
     "output_type": "stream",
     "text": [
      "WARNING:tensorflow:From C:\\Users\\Tulegenoff\\anaconda3\\Lib\\site-packages\\keras\\src\\losses.py:2976: The name tf.losses.sparse_softmax_cross_entropy is deprecated. Please use tf.compat.v1.losses.sparse_softmax_cross_entropy instead.\n",
      "\n"
     ]
    }
   ],
   "source": [
    "#\n",
    "# Import relevant Librarie\n",
    "#\n",
    "import tensorflow as tf\n",
    "from keras.datasets import mnist\n",
    "import matplotlib.pyplot as plt"
   ]
  },
  {
   "cell_type": "code",
   "execution_count": 2,
   "metadata": {
    "id": "db4OX9Bdm8Ib",
    "tags": []
   },
   "outputs": [],
   "source": [
    "# Load MNIST data and store it in variables x_train, x_test. Note -  we do not need labels as it's autoencoder.\n",
    "df = mnist.load_data()\n",
    "\n",
    "(x_train, _), (x_test, _) = df"
   ]
  },
  {
   "cell_type": "code",
   "execution_count": 3,
   "metadata": {
    "tags": []
   },
   "outputs": [
    {
     "data": {
      "text/plain": [
       "(60000, 28, 28)"
      ]
     },
     "execution_count": 3,
     "metadata": {},
     "output_type": "execute_result"
    }
   ],
   "source": [
    "x_train.shape"
   ]
  },
  {
   "cell_type": "code",
   "execution_count": 4,
   "metadata": {
    "tags": []
   },
   "outputs": [
    {
     "data": {
      "text/plain": [
       "(10000, 28, 28)"
      ]
     },
     "execution_count": 4,
     "metadata": {},
     "output_type": "execute_result"
    }
   ],
   "source": [
    "x_test.shape"
   ]
  },
  {
   "cell_type": "code",
   "execution_count": 5,
   "metadata": {
    "colab": {
     "base_uri": "https://localhost:8080/",
     "height": 129
    },
    "id": "Y9VG7JbKm8Ic",
    "outputId": "d416dcff-0379-429e-ccaa-4817b49adfe2",
    "tags": []
   },
   "outputs": [
    {
     "data": {
      "image/png": "[encoded data removed]",
      "text/plain": [
       "<Figure size 2000x400 with 10 Axes>"
      ]
     },
     "metadata": {},
     "output_type": "display_data"
    }
   ],
   "source": [
    "# Plot a few data points\n",
    "%matplotlib inline\n",
    "\n",
    "n = 10  # Number of records that will display\n",
    "plt.figure(figsize=(20, 4))\n",
    "for i in range(n):\n",
    "    # display original\n",
    "    ax = plt.subplot(1, n, i + 1)\n",
    "    plt.imshow(x_test[i].reshape(28, 28))\n",
    "    plt.gray()\n",
    "    ax.get_xaxis().set_visible(False)\n",
    "    ax.get_yaxis().set_visible(False)\n",
    "\n",
    "plt.show()"
   ]
  },
  {
   "cell_type": "code",
   "execution_count": 6,
   "metadata": {
    "id": "l7J4pLFUm8Ic",
    "tags": []
   },
   "outputs": [],
   "source": [
    "# Normalize train data - Divide by 255\n",
    "# Normalize test data - Divide by 255\n",
    "x_train = x_train / 255.0\n",
    "x_test = x_test / 255.0"
   ]
  },
  {
   "cell_type": "code",
   "execution_count": 7,
   "metadata": {
    "tags": []
   },
   "outputs": [
    {
     "data": {
      "text/plain": [
       "1.0"
      ]
     },
     "execution_count": 7,
     "metadata": {},
     "output_type": "execute_result"
    }
   ],
   "source": [
    "x_train.max()"
   ]
  },
  {
   "cell_type": "code",
   "execution_count": 8,
   "metadata": {
    "tags": []
   },
   "outputs": [
    {
     "data": {
      "text/plain": [
       "1.0"
      ]
     },
     "execution_count": 8,
     "metadata": {},
     "output_type": "execute_result"
    }
   ],
   "source": [
    "x_test.max()"
   ]
  },
  {
   "cell_type": "markdown",
   "metadata": {
    "id": "iN3Dtyymm8Ic"
   },
   "source": [
    "## Basic AutoEncoder\n",
    "\n",
    "Build a basic symmetric encoder-decoder network that recreates the image.  This network could be used in dimensionaliry reduction or feature learning. "
   ]
  },
  {
   "cell_type": "code",
   "execution_count": 9,
   "metadata": {
    "tags": []
   },
   "outputs": [],
   "source": [
    "from keras.models import Sequential\n",
    "from keras.layers import Flatten, Dense, Reshape"
   ]
  },
  {
   "cell_type": "code",
   "execution_count": 10,
   "metadata": {
    "id": "sZ0Haczem8Id",
    "tags": []
   },
   "outputs": [
    {
     "name": "stdout",
     "output_type": "stream",
     "text": [
      "WARNING:tensorflow:From C:\\Users\\Tulegenoff\\anaconda3\\Lib\\site-packages\\keras\\src\\backend.py:873: The name tf.get_default_graph is deprecated. Please use tf.compat.v1.get_default_graph instead.\n",
      "\n"
     ]
    }
   ],
   "source": [
    "encoder = Sequential()\n",
    "encoder.add(Flatten(input_shape=[28,28]))\n",
    "\n",
    "#\n",
    "# Add as many hidden layers in the encoder network of your choise\n",
    "#\n",
    "#\n",
    "encoder.add(Dense(392, activation = 'relu'))\n",
    "encoder.add(Dense(196, activation='relu'))\n",
    "encoder.add(Dense(98, activation = 'relu'))\n",
    "encoder.add(Dense(50, activation = 'relu'))\n",
    "encoder.add(Dense(25, activation = 'relu'))\n",
    "# The last TWO layers of the encoder and decoder must be matched (see the following decoder cell.\n",
    "#"
   ]
  },
  {
   "cell_type": "code",
   "execution_count": 11,
   "metadata": {
    "tags": []
   },
   "outputs": [
    {
     "name": "stdout",
     "output_type": "stream",
     "text": [
      "Model: \"sequential\"\n",
      "_________________________________________________________________\n",
      " Layer (type)                Output Shape              Param #   \n",
      "=================================================================\n",
      " flatten (Flatten)           (None, 784)               0         \n",
      "                                                                 \n",
      " dense (Dense)               (None, 392)               307720    \n",
      "                                                                 \n",
      " dense_1 (Dense)             (None, 196)               77028     \n",
      "                                                                 \n",
      " dense_2 (Dense)             (None, 98)                19306     \n",
      "                                                                 \n",
      " dense_3 (Dense)             (None, 50)                4950      \n",
      "                                                                 \n",
      " dense_4 (Dense)             (None, 25)                1275      \n",
      "                                                                 \n",
      "=================================================================\n",
      "Total params: 410279 (1.57 MB)\n",
      "Trainable params: 410279 (1.57 MB)\n",
      "Non-trainable params: 0 (0.00 Byte)\n",
      "_________________________________________________________________\n"
     ]
    }
   ],
   "source": [
    "# print the encoder model\n",
    "encoder.summary()"
   ]
  },
  {
   "cell_type": "code",
   "execution_count": 12,
   "metadata": {
    "id": "bWkuLDpjm8Id",
    "tags": []
   },
   "outputs": [],
   "source": [
    "decoder = Sequential()\n",
    "decoder.add(Dense(50,input_shape=[25],activation='relu'))\n",
    "\n",
    "#\n",
    "# Add as many layers in the decoder as you want. Reember - Encoder and decoder need to be symmetric.\n",
    "#\n",
    "decoder.add(Dense(98, activation = 'relu'))\n",
    "decoder.add(Dense(196, activation = 'relu'))\n",
    "decoder.add(Dense(392, activation = 'relu'))\n",
    "\n",
    "decoder.add(Dense(28 * 28, activation=\"sigmoid\"))\n",
    "decoder.add(Reshape([28, 28]))"
   ]
  },
  {
   "cell_type": "code",
   "execution_count": 13,
   "metadata": {
    "tags": []
   },
   "outputs": [
    {
     "name": "stdout",
     "output_type": "stream",
     "text": [
      "Model: \"sequential_1\"\n",
      "_________________________________________________________________\n",
      " Layer (type)                Output Shape              Param #   \n",
      "=================================================================\n",
      " dense_5 (Dense)             (None, 50)                1300      \n",
      "                                                                 \n",
      " dense_6 (Dense)             (None, 98)                4998      \n",
      "                                                                 \n",
      " dense_7 (Dense)             (None, 196)               19404     \n",
      "                                                                 \n",
      " dense_8 (Dense)             (None, 392)               77224     \n",
      "                                                                 \n",
      " dense_9 (Dense)             (None, 784)               308112    \n",
      "                                                                 \n",
      " reshape (Reshape)           (None, 28, 28)            0         \n",
      "                                                                 \n",
      "=================================================================\n",
      "Total params: 411038 (1.57 MB)\n",
      "Trainable params: 411038 (1.57 MB)\n",
      "Non-trainable params: 0 (0.00 Byte)\n",
      "_________________________________________________________________\n"
     ]
    }
   ],
   "source": [
    "# print the decoder model\n",
    "decoder.summary()"
   ]
  },
  {
   "cell_type": "code",
   "execution_count": 14,
   "metadata": {
    "id": "Iic4UbbXm8Id",
    "tags": []
   },
   "outputs": [],
   "source": [
    "autoencoder = Sequential([encoder, decoder]) # Combine encoder and decoder together.\n"
   ]
  },
  {
   "cell_type": "code",
   "execution_count": 15,
   "metadata": {
    "tags": []
   },
   "outputs": [
    {
     "name": "stdout",
     "output_type": "stream",
     "text": [
      "Model: \"sequential_2\"\n",
      "_________________________________________________________________\n",
      " Layer (type)                Output Shape              Param #   \n",
      "=================================================================\n",
      " sequential (Sequential)     (None, 25)                410279    \n",
      "                                                                 \n",
      " sequential_1 (Sequential)   (None, 28, 28)            411038    \n",
      "                                                                 \n",
      "=================================================================\n",
      "Total params: 821317 (3.13 MB)\n",
      "Trainable params: 821317 (3.13 MB)\n",
      "Non-trainable params: 0 (0.00 Byte)\n",
      "_________________________________________________________________\n"
     ]
    }
   ],
   "source": [
    "# print the autoencoder model\n",
    "autoencoder.summary()"
   ]
  },
  {
   "cell_type": "code",
   "execution_count": 16,
   "metadata": {
    "id": "Vps8w9u-m8Id",
    "tags": []
   },
   "outputs": [
    {
     "name": "stdout",
     "output_type": "stream",
     "text": [
      "WARNING:tensorflow:From C:\\Users\\Tulegenoff\\anaconda3\\Lib\\site-packages\\keras\\src\\optimizers\\__init__.py:309: The name tf.train.Optimizer is deprecated. Please use tf.compat.v1.train.Optimizer instead.\n",
      "\n"
     ]
    }
   ],
   "source": [
    "# Compile the autoencoder. Use binary_crossenropy as loss and metrics as accuracy.\n",
    "autoencoder.compile(loss='binary_crossentropy', metrics='accuracy')"
   ]
  },
  {
   "cell_type": "code",
   "execution_count": 17,
   "metadata": {
    "tags": []
   },
   "outputs": [
    {
     "name": "stdout",
     "output_type": "stream",
     "text": [
      "Epoch 1/30\n",
      "WARNING:tensorflow:From C:\\Users\\Tulegenoff\\anaconda3\\Lib\\site-packages\\keras\\src\\utils\\tf_utils.py:492: The name tf.ragged.RaggedTensorValue is deprecated. Please use tf.compat.v1.ragged.RaggedTensorValue instead.\n",
      "\n",
      "WARNING:tensorflow:From C:\\Users\\Tulegenoff\\anaconda3\\Lib\\site-packages\\keras\\src\\engine\\base_layer_utils.py:384: The name tf.executing_eagerly_outside_functions is deprecated. Please use tf.compat.v1.executing_eagerly_outside_functions instead.\n",
      "\n",
      "1875/1875 [==============================] - 10s 5ms/step - loss: 0.2319 - accuracy: 0.1100 - val_loss: 0.1895 - val_accuracy: 0.1585\n",
      "Epoch 2/30\n",
      "1875/1875 [==============================] - 9s 5ms/step - loss: 0.1675 - accuracy: 0.1885 - val_loss: 0.1524 - val_accuracy: 0.2025\n",
      "Epoch 3/30\n",
      "1875/1875 [==============================] - 10s 5ms/step - loss: 0.1492 - accuracy: 0.2113 - val_loss: 0.1415 - val_accuracy: 0.2203\n",
      "Epoch 4/30\n",
      "1875/1875 [==============================] - 9s 5ms/step - loss: 0.1397 - accuracy: 0.2255 - val_loss: 0.1344 - val_accuracy: 0.2252\n",
      "Epoch 5/30\n",
      "1875/1875 [==============================] - 13s 7ms/step - loss: 0.1320 - accuracy: 0.2345 - val_loss: 0.1276 - val_accuracy: 0.2332\n",
      "Epoch 6/30\n",
      "1875/1875 [==============================] - 9s 5ms/step - loss: 0.1272 - accuracy: 0.2400 - val_loss: 0.1239 - val_accuracy: 0.2423\n",
      "Epoch 7/30\n",
      "1875/1875 [==============================] - 9s 5ms/step - loss: 0.1232 - accuracy: 0.2459 - val_loss: 0.1197 - val_accuracy: 0.2455\n",
      "Epoch 8/30\n",
      "1875/1875 [==============================] - 10s 5ms/step - loss: 0.1203 - accuracy: 0.2503 - val_loss: 0.1180 - val_accuracy: 0.2539\n",
      "Epoch 9/30\n",
      "1875/1875 [==============================] - 11s 6ms/step - loss: 0.1180 - accuracy: 0.2539 - val_loss: 0.1167 - val_accuracy: 0.2539\n",
      "Epoch 10/30\n",
      "1875/1875 [==============================] - 9s 5ms/step - loss: 0.1160 - accuracy: 0.2570 - val_loss: 0.1148 - val_accuracy: 0.2534\n",
      "Epoch 11/30\n",
      "1875/1875 [==============================] - 9s 5ms/step - loss: 0.1141 - accuracy: 0.2602 - val_loss: 0.1127 - val_accuracy: 0.2542\n",
      "Epoch 12/30\n",
      "1875/1875 [==============================] - 9s 5ms/step - loss: 0.1126 - accuracy: 0.2636 - val_loss: 0.1122 - val_accuracy: 0.2568\n",
      "Epoch 13/30\n",
      "1875/1875 [==============================] - 9s 5ms/step - loss: 0.1113 - accuracy: 0.2658 - val_loss: 0.1104 - val_accuracy: 0.2608\n",
      "Epoch 14/30\n",
      "1875/1875 [==============================] - 9s 5ms/step - loss: 0.1101 - accuracy: 0.2684 - val_loss: 0.1109 - val_accuracy: 0.2599\n",
      "Epoch 15/30\n",
      "1875/1875 [==============================] - 9s 5ms/step - loss: 0.1089 - accuracy: 0.2706 - val_loss: 0.1101 - val_accuracy: 0.2677\n",
      "Epoch 16/30\n",
      "1875/1875 [==============================] - 9s 5ms/step - loss: 0.1079 - accuracy: 0.2723 - val_loss: 0.1070 - val_accuracy: 0.2708\n",
      "Epoch 17/30\n",
      "1875/1875 [==============================] - 9s 5ms/step - loss: 0.1069 - accuracy: 0.2739 - val_loss: 0.1078 - val_accuracy: 0.2650\n",
      "Epoch 18/30\n",
      "1875/1875 [==============================] - 8s 5ms/step - loss: 0.1060 - accuracy: 0.2751 - val_loss: 0.1062 - val_accuracy: 0.2712\n",
      "Epoch 19/30\n",
      "1875/1875 [==============================] - 9s 5ms/step - loss: 0.1052 - accuracy: 0.2764 - val_loss: 0.1053 - val_accuracy: 0.2707\n",
      "Epoch 20/30\n",
      "1875/1875 [==============================] - 8s 5ms/step - loss: 0.1046 - accuracy: 0.2774 - val_loss: 0.1066 - val_accuracy: 0.2660\n",
      "Epoch 21/30\n",
      "1875/1875 [==============================] - 11s 6ms/step - loss: 0.1039 - accuracy: 0.2787 - val_loss: 0.1078 - val_accuracy: 0.2676\n",
      "Epoch 22/30\n",
      "1875/1875 [==============================] - 10s 5ms/step - loss: 0.1033 - accuracy: 0.2793 - val_loss: 0.1049 - val_accuracy: 0.2741\n",
      "Epoch 23/30\n",
      "1875/1875 [==============================] - 9s 5ms/step - loss: 0.1028 - accuracy: 0.2804 - val_loss: 0.1037 - val_accuracy: 0.2732\n",
      "Epoch 24/30\n",
      "1875/1875 [==============================] - 9s 5ms/step - loss: 0.1023 - accuracy: 0.2815 - val_loss: 0.1035 - val_accuracy: 0.2776\n",
      "Epoch 25/30\n",
      "1875/1875 [==============================] - 10s 5ms/step - loss: 0.1018 - accuracy: 0.2824 - val_loss: 0.1026 - val_accuracy: 0.2727\n",
      "Epoch 26/30\n",
      "1875/1875 [==============================] - 9s 5ms/step - loss: 0.1014 - accuracy: 0.2827 - val_loss: 0.1028 - val_accuracy: 0.2780\n",
      "Epoch 27/30\n",
      "1875/1875 [==============================] - 9s 5ms/step - loss: 0.1009 - accuracy: 0.2842 - val_loss: 0.1057 - val_accuracy: 0.2756\n",
      "Epoch 28/30\n",
      "1875/1875 [==============================] - 9s 5ms/step - loss: 0.1005 - accuracy: 0.2847 - val_loss: 0.1028 - val_accuracy: 0.2754\n",
      "Epoch 29/30\n",
      "1875/1875 [==============================] - 8s 4ms/step - loss: 0.1000 - accuracy: 0.2855 - val_loss: 0.1014 - val_accuracy: 0.2803\n",
      "Epoch 30/30\n",
      "1875/1875 [==============================] - 8s 4ms/step - loss: 0.0996 - accuracy: 0.2865 - val_loss: 0.1021 - val_accuracy: 0.2836\n"
     ]
    },
    {
     "data": {
      "text/plain": [
       "<keras.src.callbacks.History at 0x1e504657cd0>"
      ]
     },
     "execution_count": 17,
     "metadata": {},
     "output_type": "execute_result"
    }
   ],
   "source": [
    "# Fit the autoencoder. Note - Input and output are same. x_train is your train data, x_test is your validation data.\n",
    "autoencoder.fit(x_train, x_train, validation_data=[x_test, x_test], epochs = 30)"
   ]
  },
  {
   "cell_type": "code",
   "execution_count": 39,
   "metadata": {
    "colab": {
     "base_uri": "https://localhost:8080/",
     "height": 266
    },
    "id": "8qa1dlv0m8Ie",
    "outputId": "496b16b2-d0dc-41d0-866d-f72db6611aad",
    "tags": []
   },
   "outputs": [
    {
     "name": "stdout",
     "output_type": "stream",
     "text": [
      "313/313 [==============================] - 1s 2ms/step\n"
     ]
    },
    {
     "data": {
      "image/png": "[encoded data removed]",
      "text/plain": [
       "<Figure size 2000x400 with 16 Axes>"
      ]
     },
     "metadata": {},
     "output_type": "display_data"
    }
   ],
   "source": [
    "# Check a few sample images.\n",
    "decoded_imgs = autoencoder.predict(x_test)\n",
    "\n",
    "n = 8\n",
    "\n",
    "plt.figure(figsize=(20, 4))\n",
    "\n",
    "for i in range(n):\n",
    "    # \n",
    "    # Display original image - Just line sample code provided earlier.\n",
    "    #\n",
    "    ax = plt.subplot(2, n, i + 1)\n",
    "    plt.imshow(x_test[i])\n",
    "    plt.gray()\n",
    "    ax.get_xaxis().set_visible(False)\n",
    "    ax.get_yaxis().set_visible(False)\n",
    "    plt.title('Original images')\n",
    "    \n",
    "    # \n",
    "    # Display reconstruced (decoded) images. You need to slightly change your code.\n",
    "    #\n",
    "    ax = plt.subplot(2, n, i+1+n)\n",
    "    plt.imshow(decoded_imgs[i])\n",
    "    plt.gray()\n",
    "    ax.get_xaxis().set_visible(False)\n",
    "    ax.get_yaxis().set_visible(False)\n",
    "    plt.title('Decoded images')\n",
    "\n",
    "plt.show()"
   ]
  },
  {
   "cell_type": "markdown",
   "metadata": {
    "id": "uBRgywR9m8Ie"
   },
   "source": [
    "# AutoEncoders for Denoising Images\n",
    "\n",
    "Use the same digit data set. Add Gaussian noise to it to train an autoencoder that removes noise. Test the noisy samples. "
   ]
  },
  {
   "cell_type": "code",
   "execution_count": 19,
   "metadata": {
    "id": "OdDjYQC5m8Ie",
    "tags": []
   },
   "outputs": [],
   "source": [
    "from tensorflow.keras.layers import GaussianNoise"
   ]
  },
  {
   "cell_type": "code",
   "execution_count": 20,
   "metadata": {
    "id": "da3tX601m8Ie",
    "tags": []
   },
   "outputs": [],
   "source": [
    "sample = GaussianNoise(0.2)\n",
    "noisey = sample(x_test[0:2],training=True)"
   ]
  },
  {
   "cell_type": "code",
   "execution_count": 21,
   "metadata": {
    "colab": {
     "base_uri": "https://localhost:8080/",
     "height": 283
    },
    "id": "QrTuAs-Hm8Ie",
    "outputId": "5e85506e-6980-4470-b322-eaf6c911bba5",
    "tags": []
   },
   "outputs": [
    {
     "data": {
      "text/plain": [
       "<matplotlib.image.AxesImage at 0x1e53a0fc7d0>"
      ]
     },
     "execution_count": 21,
     "metadata": {},
     "output_type": "execute_result"
    },
    {
     "data": {
      "image/png": "[encoded data removed]",
      "text/plain": [
       "<Figure size 640x480 with 1 Axes>"
      ]
     },
     "metadata": {},
     "output_type": "display_data"
    }
   ],
   "source": [
    "plt.imshow(x_test[0])"
   ]
  },
  {
   "cell_type": "code",
   "execution_count": 22,
   "metadata": {
    "colab": {
     "base_uri": "https://localhost:8080/",
     "height": 283
    },
    "id": "-O6S5HhSm8If",
    "outputId": "3b2e48c8-b14d-4080-869d-734844ce5ac1",
    "tags": []
   },
   "outputs": [
    {
     "data": {
      "text/plain": [
       "<matplotlib.image.AxesImage at 0x1e53a15d710>"
      ]
     },
     "execution_count": 22,
     "metadata": {},
     "output_type": "execute_result"
    },
    {
     "data": {
      "image/png": "[encoded data removed]",
      "text/plain": [
       "<Figure size 640x480 with 1 Axes>"
      ]
     },
     "metadata": {},
     "output_type": "display_data"
    }
   ],
   "source": [
    "plt.imshow(noisey[0])"
   ]
  },
  {
   "cell_type": "markdown",
   "metadata": {
    "id": "PCnzI8Mrm8If"
   },
   "source": [
    "### Create  noise removal autoencoder and train it.\n",
    "\n",
    "# Input - Images with noise\n",
    "# Labels - Clean images."
   ]
  },
  {
   "cell_type": "code",
   "execution_count": 23,
   "metadata": {
    "id": "sAwfn_Uqm8If",
    "tags": []
   },
   "outputs": [],
   "source": [
    "\n",
    "encoder = Sequential()\n",
    "encoder.add(Flatten(input_shape=[28,28]))\n",
    "encoder.add(GaussianNoise(0.2)) # We are adding noise to make input as noisy image\n",
    "#\n",
    "# Add layers of encoder network. You could use same number of layers as earlier.\n",
    "#\n",
    "encoder.add(Dense(392, activation = 'relu'))\n",
    "encoder.add(Dense(196, activation='relu'))\n",
    "encoder.add(Dense(98, activation = 'relu'))\n",
    "encoder.add(Dense(50, activation = 'relu'))\n",
    "encoder.add(Dense(25, activation = 'relu'))\n"
   ]
  },
  {
   "cell_type": "code",
   "execution_count": 24,
   "metadata": {
    "id": "w51A8hiQm8If",
    "tags": []
   },
   "outputs": [],
   "source": [
    "decoder = Sequential()\n",
    "decoder.add(Dense(50,input_shape=[25],activation='relu'))\n",
    "\n",
    "#\n",
    "# Add layers of decoder network. You could use same number of layers as earlier.\n",
    "#\n",
    "decoder.add(Dense(98, activation = 'relu'))\n",
    "decoder.add(Dense(196, activation = 'relu'))\n",
    "decoder.add(Dense(392, activation = 'relu'))\n",
    "\n",
    "decoder.add(Dense(28 * 28, activation=\"sigmoid\"))\n",
    "decoder.add(Reshape([28, 28]))"
   ]
  },
  {
   "cell_type": "code",
   "execution_count": 25,
   "metadata": {
    "id": "kHurlGFvm8If",
    "tags": []
   },
   "outputs": [],
   "source": [
    "noise_remover = Sequential([encoder, decoder])"
   ]
  },
  {
   "cell_type": "code",
   "execution_count": 26,
   "metadata": {
    "id": "fpY3GDCBm8If",
    "tags": []
   },
   "outputs": [],
   "source": [
    "# Compile the network as earlier\n",
    "noise_remover.compile(optimizer='adam', loss = 'binary_crossentropy', metrics = 'accuracy')"
   ]
  },
  {
   "cell_type": "code",
   "execution_count": 27,
   "metadata": {
    "tags": []
   },
   "outputs": [
    {
     "name": "stdout",
     "output_type": "stream",
     "text": [
      "Epoch 1/30\n",
      "1875/1875 [==============================] - 12s 5ms/step - loss: 0.1713 - accuracy: 0.1824 - val_loss: 0.1379 - val_accuracy: 0.2241\n",
      "Epoch 2/30\n",
      "1875/1875 [==============================] - 11s 6ms/step - loss: 0.1309 - accuracy: 0.2319 - val_loss: 0.1222 - val_accuracy: 0.2392\n",
      "Epoch 3/30\n",
      "1875/1875 [==============================] - 10s 5ms/step - loss: 0.1222 - accuracy: 0.2461 - val_loss: 0.1170 - val_accuracy: 0.2514\n",
      "Epoch 4/30\n",
      "1875/1875 [==============================] - 12s 6ms/step - loss: 0.1173 - accuracy: 0.2540 - val_loss: 0.1104 - val_accuracy: 0.2600\n",
      "Epoch 5/30\n",
      "1875/1875 [==============================] - 12s 6ms/step - loss: 0.1131 - accuracy: 0.2602 - val_loss: 0.1078 - val_accuracy: 0.2595\n",
      "Epoch 6/30\n",
      "1875/1875 [==============================] - 12s 6ms/step - loss: 0.1104 - accuracy: 0.2645 - val_loss: 0.1064 - val_accuracy: 0.2691\n",
      "Epoch 7/30\n",
      "1875/1875 [==============================] - 10s 6ms/step - loss: 0.1084 - accuracy: 0.2683 - val_loss: 0.1034 - val_accuracy: 0.2769\n",
      "Epoch 8/30\n",
      "1875/1875 [==============================] - 10s 5ms/step - loss: 0.1065 - accuracy: 0.2724 - val_loss: 0.1018 - val_accuracy: 0.2771\n",
      "Epoch 9/30\n",
      "1875/1875 [==============================] - 13s 7ms/step - loss: 0.1051 - accuracy: 0.2755 - val_loss: 0.1008 - val_accuracy: 0.2749\n",
      "Epoch 10/30\n",
      "1875/1875 [==============================] - 10s 5ms/step - loss: 0.1036 - accuracy: 0.2784 - val_loss: 0.0990 - val_accuracy: 0.2833\n",
      "Epoch 11/30\n",
      "1875/1875 [==============================] - 10s 5ms/step - loss: 0.1023 - accuracy: 0.2808 - val_loss: 0.0984 - val_accuracy: 0.2895\n",
      "Epoch 12/30\n",
      "1875/1875 [==============================] - 11s 6ms/step - loss: 0.1013 - accuracy: 0.2835 - val_loss: 0.0976 - val_accuracy: 0.2778\n",
      "Epoch 13/30\n",
      "1875/1875 [==============================] - 11s 6ms/step - loss: 0.1005 - accuracy: 0.2850 - val_loss: 0.0980 - val_accuracy: 0.2844\n",
      "Epoch 14/30\n",
      "1875/1875 [==============================] - 9s 5ms/step - loss: 0.0998 - accuracy: 0.2874 - val_loss: 0.0966 - val_accuracy: 0.2860\n",
      "Epoch 15/30\n",
      "1875/1875 [==============================] - 10s 5ms/step - loss: 0.0992 - accuracy: 0.2892 - val_loss: 0.0958 - val_accuracy: 0.2915\n",
      "Epoch 16/30\n",
      "1875/1875 [==============================] - 11s 6ms/step - loss: 0.0986 - accuracy: 0.2905 - val_loss: 0.0967 - val_accuracy: 0.2792\n",
      "Epoch 17/30\n",
      "1875/1875 [==============================] - 11s 6ms/step - loss: 0.0978 - accuracy: 0.2925 - val_loss: 0.0956 - val_accuracy: 0.2952\n",
      "Epoch 18/30\n",
      "1875/1875 [==============================] - 10s 6ms/step - loss: 0.0974 - accuracy: 0.2942 - val_loss: 0.0937 - val_accuracy: 0.2949\n",
      "Epoch 19/30\n",
      "1875/1875 [==============================] - 11s 6ms/step - loss: 0.0968 - accuracy: 0.2949 - val_loss: 0.0930 - val_accuracy: 0.2961\n",
      "Epoch 20/30\n",
      "1875/1875 [==============================] - 11s 6ms/step - loss: 0.0963 - accuracy: 0.2962 - val_loss: 0.0927 - val_accuracy: 0.2940\n",
      "Epoch 21/30\n",
      "1875/1875 [==============================] - 10s 5ms/step - loss: 0.0958 - accuracy: 0.2977 - val_loss: 0.0924 - val_accuracy: 0.2931\n",
      "Epoch 22/30\n",
      "1875/1875 [==============================] - 10s 5ms/step - loss: 0.0955 - accuracy: 0.2987 - val_loss: 0.0924 - val_accuracy: 0.2960\n",
      "Epoch 23/30\n",
      "1875/1875 [==============================] - 10s 5ms/step - loss: 0.0950 - accuracy: 0.2991 - val_loss: 0.0913 - val_accuracy: 0.2975\n",
      "Epoch 24/30\n",
      "1875/1875 [==============================] - 10s 5ms/step - loss: 0.0947 - accuracy: 0.3010 - val_loss: 0.0924 - val_accuracy: 0.2941\n",
      "Epoch 25/30\n",
      "1875/1875 [==============================] - 10s 5ms/step - loss: 0.0942 - accuracy: 0.3017 - val_loss: 0.0918 - val_accuracy: 0.3009\n",
      "Epoch 26/30\n",
      "1875/1875 [==============================] - 10s 5ms/step - loss: 0.0939 - accuracy: 0.3021 - val_loss: 0.0908 - val_accuracy: 0.3025\n",
      "Epoch 27/30\n",
      "1875/1875 [==============================] - 10s 5ms/step - loss: 0.0936 - accuracy: 0.3032 - val_loss: 0.0916 - val_accuracy: 0.3018\n",
      "Epoch 28/30\n",
      "1875/1875 [==============================] - 10s 5ms/step - loss: 0.0933 - accuracy: 0.3039 - val_loss: 0.0904 - val_accuracy: 0.3001\n",
      "Epoch 29/30\n",
      "1875/1875 [==============================] - 10s 5ms/step - loss: 0.0931 - accuracy: 0.3036 - val_loss: 0.0904 - val_accuracy: 0.3086\n",
      "Epoch 30/30\n",
      "1875/1875 [==============================] - 10s 5ms/step - loss: 0.0928 - accuracy: 0.3053 - val_loss: 0.0893 - val_accuracy: 0.3064\n"
     ]
    },
    {
     "data": {
      "text/plain": [
       "<keras.src.callbacks.History at 0x1e53a0d3d50>"
      ]
     },
     "execution_count": 27,
     "metadata": {},
     "output_type": "execute_result"
    }
   ],
   "source": [
    "# Fit the network as earlier.\n",
    "noise_remover.fit(x_train, x_train, validation_data=[x_test, x_test], epochs = 30)"
   ]
  },
  {
   "cell_type": "code",
   "execution_count": 28,
   "metadata": {
    "id": "rQXenyFYm8Ig",
    "tags": []
   },
   "outputs": [],
   "source": [
    "ten_noisey_images = sample(x_test[0:10],training=True)\n",
    "denoised = noise_remover(ten_noisey_images[0:10])"
   ]
  },
  {
   "cell_type": "code",
   "execution_count": 30,
   "metadata": {
    "id": "2IJtMOcKm8Ig",
    "scrolled": true,
    "tags": []
   },
   "outputs": [
    {
     "data": {
      "image/png": "[encoded data removed]",
      "text/plain": [
       "<Figure size 640x480 with 3 Axes>"
      ]
     },
     "metadata": {},
     "output_type": "display_data"
    }
   ],
   "source": [
    "n = 4\n",
    "plt.subplot(1, 3, 1)\n",
    "plt.imshow(x_test[n])\n",
    "plt.title(\"Original\")\n",
    "\n",
    "plt.subplot(1, 3, 2)\n",
    "plt.imshow(ten_noisey_images[n])\n",
    "plt.title(\"Noisey Version\")\n",
    "\n",
    "plt.subplot(1, 3, 3)\n",
    "plt.imshow(denoised[n])\n",
    "plt.title(\"After going through denoiser\")\n",
    "\n",
    "plt.show()"
   ]
  },
  {
   "cell_type": "code",
   "execution_count": null,
   "metadata": {},
   "outputs": [],
   "source": []
  },
  {
   "cell_type": "markdown",
   "metadata": {},
   "source": [
    "## Lab Logbook requirement:\n",
    "\n",
    "- Put the model summary for task 1 in you lab logbook.\n",
    "\n",
    "Ensure that no code or other information is added to the logbook and that only required information is present.  Marks will not be awarded if anything else is found in the logbook or instructions are not clearly followed.\n",
    "\n",
    "NOTE: DON'T FORGET TO SAVE AND BACK UP YOUR COMPLETED JUPYTER NOTEBOOK AND LAB LOGBOOK ON GITHUB OR ONEDRIVE."
   ]
  }
 ],
 "metadata": {
  "colab": {
   "provenance": []
  },
  "kernelspec": {
   "display_name": "Python 3 (ipykernel)",
   "language": "python",
   "name": "python3"
  },
  "language_info": {
   "codemirror_mode": {
    "name": "ipython",
    "version": 3
   },
   "file_extension": ".py",
   "mimetype": "text/x-python",
   "name": "python",
   "nbconvert_exporter": "python",
   "pygments_lexer": "ipython3",
   "version": "3.11.5"
  }
 },
 "nbformat": 4,
 "nbformat_minor": 4
}
