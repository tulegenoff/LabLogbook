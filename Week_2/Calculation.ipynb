{
 "cells": [
  {
   "cell_type": "code",
   "execution_count": 1,
   "id": "d7f56936-5fe9-4853-8613-f3495a0ecd06",
   "metadata": {
    "tags": []
   },
   "outputs": [],
   "source": [
    "import numpy as np"
   ]
  },
  {
   "cell_type": "code",
   "execution_count": 3,
   "id": "02946663-17d8-4212-85c4-7cb0e0c9badf",
   "metadata": {
    "tags": []
   },
   "outputs": [],
   "source": [
    "SSID = 2313800\n",
    "x1 = (SSID/8964879) * 23\n",
    "x2 = (SSID/8964879) * 32\n",
    "x3 = (SSID/8964879) * 56\n",
    "x4 = (SSID/8964879) * 48"
   ]
  },
  {
   "cell_type": "code",
   "execution_count": 30,
   "id": "fc39490b-614f-4728-bac9-3212bd5b595e",
   "metadata": {
    "tags": []
   },
   "outputs": [],
   "source": [
    "x = np.array([x1, x2, x3, x4])\n",
    "weights1 = 0.2 * np.ones(4)"
   ]
  },
  {
   "cell_type": "code",
   "execution_count": 27,
   "id": "4373c749-e525-400d-9185-55da32986c37",
   "metadata": {
    "tags": []
   },
   "outputs": [],
   "source": [
    "def relu(z):\n",
    "    return z * (z > 0)"
   ]
  },
  {
   "cell_type": "code",
   "execution_count": 31,
   "id": "0807a9c7-44e0-4bb1-825e-704f9539f2b7",
   "metadata": {
    "tags": []
   },
   "outputs": [
    {
     "data": {
      "text/plain": [
       "8.207454891471485"
      ]
     },
     "execution_count": 31,
     "metadata": {},
     "output_type": "execute_result"
    }
   ],
   "source": [
    "h1 = relu(weights1.T @ x)\n",
    "h2 = relu(weights1.T @ x)\n",
    "h2"
   ]
  },
  {
   "cell_type": "code",
   "execution_count": 32,
   "id": "9bafc029-b0df-4bd1-8503-a80ae8a17c90",
   "metadata": {
    "tags": []
   },
   "outputs": [],
   "source": [
    "weights2 = 0.1 * np.ones(2)\n",
    "x2 = np.array([h1, h2])"
   ]
  },
  {
   "cell_type": "code",
   "execution_count": 33,
   "id": "9023b584-ea9e-475f-8c09-8ad8627d13c8",
   "metadata": {
    "tags": []
   },
   "outputs": [],
   "source": [
    "h3 = relu(weights2.T @ x2)\n",
    "h4 = relu(weights2.T @ x2)"
   ]
  },
  {
   "cell_type": "code",
   "execution_count": 35,
   "id": "38abe56f-f768-40e3-a810-b10ccb19722a",
   "metadata": {
    "tags": []
   },
   "outputs": [],
   "source": [
    "weights3 = 0.3 * np.ones(2)\n",
    "x3 = np.array([h3, h4])"
   ]
  },
  {
   "cell_type": "code",
   "execution_count": 36,
   "id": "ebae436c-6ff3-4f17-8605-52699fb52c9d",
   "metadata": {
    "tags": []
   },
   "outputs": [],
   "source": [
    "def sigmoid(z):\n",
    "    return 1/(1 + np.exp(-z))"
   ]
  },
  {
   "cell_type": "code",
   "execution_count": 37,
   "id": "6f129971-09e0-44e0-b542-fe73ee103457",
   "metadata": {
    "tags": []
   },
   "outputs": [
    {
     "data": {
      "text/plain": [
       "0.8153107411286188"
      ]
     },
     "execution_count": 37,
     "metadata": {},
     "output_type": "execute_result"
    }
   ],
   "source": [
    "o1 = sigmoid(0.5 + weights3.T @ x3)\n",
    "o2 = sigmoid(0.5 + weights3.T @ x3)\n",
    "o1"
   ]
  }
 ],
 "metadata": {
  "kernelspec": {
   "display_name": "Python 3 (ipykernel)",
   "language": "python",
   "name": "python3"
  },
  "language_info": {
   "codemirror_mode": {
    "name": "ipython",
    "version": 3
   },
   "file_extension": ".py",
   "mimetype": "text/x-python",
   "name": "python",
   "nbconvert_exporter": "python",
   "pygments_lexer": "ipython3",
   "version": "3.11.5"
  }
 },
 "nbformat": 4,
 "nbformat_minor": 5
}
