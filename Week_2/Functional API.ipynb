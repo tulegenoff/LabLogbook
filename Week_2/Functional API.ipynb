{
 "cells": [
  {
   "cell_type": "markdown",
   "id": "e6763231-46fd-4ba5-88fc-5232fc0ae8c9",
   "metadata": {},
   "source": [
    "# Keras functional API"
   ]
  },
  {
   "cell_type": "code",
   "execution_count": 1,
   "id": "5e7173cf-9d2e-4f81-a2b8-9ba31cda5f6b",
   "metadata": {
    "tags": []
   },
   "outputs": [
    {
     "name": "stdout",
     "output_type": "stream",
     "text": [
      "WARNING:tensorflow:From C:\\Users\\Tulegenoff\\anaconda3\\Lib\\site-packages\\keras\\src\\losses.py:2976: The name tf.losses.sparse_softmax_cross_entropy is deprecated. Please use tf.compat.v1.losses.sparse_softmax_cross_entropy instead.\n",
      "\n"
     ]
    }
   ],
   "source": [
    "import tensorflow.keras as keras"
   ]
  },
  {
   "cell_type": "code",
   "execution_count": 2,
   "id": "928fcd4f-c749-4763-aa93-83c476aeb827",
   "metadata": {
    "tags": []
   },
   "outputs": [
    {
     "name": "stdout",
     "output_type": "stream",
     "text": [
      "WARNING:tensorflow:From C:\\Users\\Tulegenoff\\anaconda3\\Lib\\site-packages\\keras\\src\\backend.py:1398: The name tf.executing_eagerly_outside_functions is deprecated. Please use tf.compat.v1.executing_eagerly_outside_functions instead.\n",
      "\n"
     ]
    },
    {
     "data": {
      "text/plain": [
       "TensorShape([None, 784])"
      ]
     },
     "execution_count": 2,
     "metadata": {},
     "output_type": "execute_result"
    }
   ],
   "source": [
    "inputs = keras.Input(shape=(784,))\n",
    "inputs.shape"
   ]
  },
  {
   "cell_type": "code",
   "execution_count": 3,
   "id": "f71b4fc2-759a-4461-8db7-1e25b0f627cf",
   "metadata": {
    "tags": []
   },
   "outputs": [
    {
     "data": {
      "text/plain": [
       "tf.float32"
      ]
     },
     "execution_count": 3,
     "metadata": {},
     "output_type": "execute_result"
    }
   ],
   "source": [
    "inputs.dtype"
   ]
  },
  {
   "cell_type": "code",
   "execution_count": 4,
   "id": "a4b90ec3-b8b1-4bd6-a132-fed3d9d05ec4",
   "metadata": {
    "tags": []
   },
   "outputs": [],
   "source": [
    "dense_1 = keras.layers.Dense(64, activation=\"relu\")\n",
    "dense_1 = dense_1(inputs)\n",
    "\n",
    "dense_2 = keras.layers.Dense(32, activation = 'relu')(dense_1)"
   ]
  },
  {
   "cell_type": "code",
   "execution_count": 5,
   "id": "ba592e22-e547-47c3-9b1f-e587eb64cad6",
   "metadata": {
    "tags": []
   },
   "outputs": [],
   "source": [
    "outputs = keras.layers.Dense(10)(dense_2)"
   ]
  },
  {
   "cell_type": "code",
   "execution_count": 6,
   "id": "e0ee0c46-96bd-46fb-a78a-047ab54df832",
   "metadata": {
    "tags": []
   },
   "outputs": [],
   "source": [
    "model = keras.Model(inputs = inputs, outputs = outputs, name = 'mnist')"
   ]
  },
  {
   "cell_type": "code",
   "execution_count": 7,
   "id": "818ab184-84d4-42f2-9370-ac19ef651614",
   "metadata": {
    "tags": []
   },
   "outputs": [
    {
     "name": "stdout",
     "output_type": "stream",
     "text": [
      "Model: \"mnist\"\n",
      "_________________________________________________________________\n",
      " Layer (type)                Output Shape              Param #   \n",
      "=================================================================\n",
      " input_1 (InputLayer)        [(None, 784)]             0         \n",
      "                                                                 \n",
      " dense (Dense)               (None, 64)                50240     \n",
      "                                                                 \n",
      " dense_1 (Dense)             (None, 32)                2080      \n",
      "                                                                 \n",
      " dense_2 (Dense)             (None, 10)                330       \n",
      "                                                                 \n",
      "=================================================================\n",
      "Total params: 52650 (205.66 KB)\n",
      "Trainable params: 52650 (205.66 KB)\n",
      "Non-trainable params: 0 (0.00 Byte)\n",
      "_________________________________________________________________\n"
     ]
    }
   ],
   "source": [
    "model.summary()"
   ]
  },
  {
   "cell_type": "code",
   "execution_count": 8,
   "id": "f5af93f9-d121-482f-bfb4-bed346916925",
   "metadata": {
    "tags": []
   },
   "outputs": [
    {
     "data": {
      "image/png": "[encoded data removed]",
      "text/plain": [
       "<IPython.core.display.Image object>"
      ]
     },
     "execution_count": 8,
     "metadata": {},
     "output_type": "execute_result"
    }
   ],
   "source": [
    "keras.utils.plot_model(model, \"functional_api_keras.png\", show_shapes= True)"
   ]
  },
  {
   "cell_type": "code",
   "execution_count": null,
   "id": "d6aa3dd0-10fc-4030-8cf8-295197badd54",
   "metadata": {},
   "outputs": [],
   "source": []
  }
 ],
 "metadata": {
  "kernelspec": {
   "display_name": "Python 3 (ipykernel)",
   "language": "python",
   "name": "python3"
  },
  "language_info": {
   "codemirror_mode": {
    "name": "ipython",
    "version": 3
   },
   "file_extension": ".py",
   "mimetype": "text/x-python",
   "name": "python",
   "nbconvert_exporter": "python",
   "pygments_lexer": "ipython3",
   "version": "3.11.5"
  }
 },
 "nbformat": 4,
 "nbformat_minor": 5
}
